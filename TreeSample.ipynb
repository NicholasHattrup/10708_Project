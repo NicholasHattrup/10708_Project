{
 "cells": [
  {
   "cell_type": "code",
   "execution_count": null,
   "id": "3d6d1ce4",
   "metadata": {},
   "outputs": [],
   "source": [
    "import types\n",
    "import numpy as np\n",
    "import pandas as pd\n",
    "from rdkit.Chem import AllChem as Chem\n",
    "from rdkit.Chem import Draw\n",
    "from rdkit.Chem.Draw import IPythonConsole\n",
    "from rdkit.Chem import GetSymmSSSR as SSSR\n",
    "import networkx as nx\n",
    "\n",
    "def mol_with_atom_index(mol):\n",
    "    for atom in mol.GetAtoms():\n",
    "        atom.SetAtomMapNum(atom.GetIdx())\n",
    "    return mol"
   ]
  },
  {
   "cell_type": "code",
   "execution_count": null,
   "id": "5faa0a25",
   "metadata": {},
   "outputs": [],
   "source": [
    "with open(\"./smiles.txt\") as f:\n",
    "    smiles = [line.strip(\"\\n\") for line in f.readlines()]\n",
    "    \n",
    "smis = smiles[:100]\n",
    "smi = smiles[2]"
   ]
  },
  {
   "cell_type": "code",
   "execution_count": null,
   "id": "d0d4c123",
   "metadata": {},
   "outputs": [],
   "source": [
    "def vis_smi(smi):\n",
    "    mol = Chem.MolFromSmiles(smi)\n",
    "    mol = Chem.AddHs(mol)\n",
    "    return mol_with_atom_index(mol)"
   ]
  },
  {
   "cell_type": "code",
   "execution_count": null,
   "id": "183bd1d2",
   "metadata": {},
   "outputs": [],
   "source": [
    "smi = \"CC([NH3+])C1=C([O-])C=CO1\"  # O=C([O])C1=CC[NH2]C1\n",
    "mol = Chem.MolFromSmiles(smi)\n",
    "Chem.AddHs(mol)"
   ]
  },
  {
   "cell_type": "code",
   "execution_count": null,
   "id": "dac75b17",
   "metadata": {},
   "outputs": [],
   "source": [
    "smi = \"CC=C1C(=O)C=CO1.N\"\n",
    "mol = Chem.MolFromSmiles(smi)\n",
    "Chem.AddHs(mol)"
   ]
  },
  {
   "cell_type": "code",
   "execution_count": null,
   "id": "8773a18e",
   "metadata": {},
   "outputs": [],
   "source": [
    "vis_smi(smi=smi)"
   ]
  },
  {
   "cell_type": "code",
   "execution_count": null,
   "id": "1d72b9ba",
   "metadata": {
    "scrolled": true
   },
   "outputs": [],
   "source": [
    "_ = 2\n",
    "smi = smiles[_]\n",
    "mol = Chem.MolFromSmiles(smi)\n",
    "mol_with_atom_index(mol)"
   ]
  },
  {
   "cell_type": "code",
   "execution_count": null,
   "id": "aaac89b2",
   "metadata": {},
   "outputs": [],
   "source": [
    "sssr = SSSR(mol)"
   ]
  },
  {
   "cell_type": "code",
   "execution_count": null,
   "id": "0a169623",
   "metadata": {},
   "outputs": [],
   "source": [
    "_fp = Chem.GetMorganFingerprint #Chem.RDKFingerprint\n",
    "_smis = [Chem.MolFragmentToSmiles(mol, x, kekuleSmiles=True) for x in sssr]\n",
    "_smiss = [\"C1=CC=CC=C1\", \"C1CNCCN1\", \"C1CCSN1\", \"C1=CC=CC=C1\"]\n",
    "_mols = [Chem.MolFromSmiles(x) for x in _smis]\n",
    "_molshs = [Chem.AddHs(Chem.MolFromSmiles(x)) for x in _smis]\n",
    "_molss = [Chem.MolFromSmiles(x) for x in _smiss]\n",
    "_molsshs = [Chem.AddHs(Chem.MolFromSmiles(x)) for x in _smiss]\n",
    "_fps = [_fp(x, 2) for x in _mols]\n",
    "_fpshs = [_fp(x, 2) for x in _molshs]\n",
    "_fpss = [_fp(x, 2) for x in _molss]\n",
    "_fpsshs = [_fp(x, 2) for x in _molsshs]"
   ]
  },
  {
   "cell_type": "code",
   "execution_count": null,
   "id": "f55d1807",
   "metadata": {},
   "outputs": [],
   "source": [
    "testsmi = Chem.MolFragmentToSmiles(mol, [17, 23], kekuleSmiles=True)\n",
    "testmol = Chem.MolFromSmiles(testsmi)\n",
    "testmol\n",
    "Chem.GetMorganFingerprint(testmol, 2)"
   ]
  },
  {
   "cell_type": "code",
   "execution_count": null,
   "id": "c4ffb4e0",
   "metadata": {
    "scrolled": true
   },
   "outputs": [],
   "source": [
    "Draw.MolsToGridImage(_mols+_molshs+_molss+_molsshs, molsPerRow=4)"
   ]
  },
  {
   "cell_type": "code",
   "execution_count": null,
   "id": "79b94306",
   "metadata": {},
   "outputs": [],
   "source": [
    "from rdkit import DataStructs\n",
    "\n",
    "_a, _b = _fpss, _fpsshs\n",
    "for n in range(4):\n",
    "    print(n, DataStructs.DiceSimilarity(_a[n], _b[n]), _a[n] == _b[n])"
   ]
  },
  {
   "cell_type": "code",
   "execution_count": 9,
   "id": "4f57f177",
   "metadata": {},
   "outputs": [
    {
     "data": {
      "image/png": "[encoded data removed]",
      "text/plain": [
       "<rdkit.Chem.rdchem.Mol at 0x7f8829219850>"
      ]
     },
     "execution_count": 9,
     "metadata": {},
     "output_type": "execute_result"
    }
   ],
   "source": [
    "from ChemGraph import *\n",
    "def mol_with_atom_index(mol):\n",
    "    for atom in mol.GetAtoms():\n",
    "        atom.SetAtomMapNum(atom.GetIdx())\n",
    "    return mol\n",
    "smi = \"C1CC11CC2N=COC12\"\n",
    "mol = Chem.MolFromSmiles(smi)\n",
    "atoms = [2, 3, 4, 5, 6]\n",
    "\n",
    "mol"
   ]
  },
  {
   "cell_type": "code",
   "execution_count": 10,
   "id": "3aa22937",
   "metadata": {},
   "outputs": [
    {
     "data": {
      "image/png": "[encoded data removed]",
      "text/plain": [
       "<rdkit.Chem.rdchem.Mol at 0x7f8829219850>"
      ]
     },
     "execution_count": 10,
     "metadata": {},
     "output_type": "execute_result"
    }
   ],
   "source": [
    "mol_with_atom_index(mol)"
   ]
  },
  {
   "cell_type": "code",
   "execution_count": 13,
   "id": "f93d16a0",
   "metadata": {},
   "outputs": [
    {
     "data": {
      "text/plain": [
       "'N'"
      ]
     },
     "execution_count": 13,
     "metadata": {},
     "output_type": "execute_result"
    }
   ],
   "source": [
    "mol.GetAtomWithIdx(5).GetSymbol()"
   ]
  },
  {
   "cell_type": "code",
   "execution_count": 12,
   "id": "acb507c6",
   "metadata": {},
   "outputs": [
    {
     "name": "stdout",
     "output_type": "stream",
     "text": [
      "1 0 SINGLE\n",
      "2 0 SINGLE\n",
      "2 1 SINGLE\n",
      "3 2 SINGLE\n",
      "4 3 SINGLE\n",
      "5 4 SINGLE\n",
      "6 5 DOUBLE\n",
      "7 6 SINGLE\n"
     ]
    }
   ],
   "source": [
    "for i in range(8):\n",
    "    for j in range(8):\n",
    "        if i < j: continue\n",
    "        try:\n",
    "            print(i, j, mol.GetBondBetweenAtoms(i,j).GetBondType())\n",
    "        except:\n",
    "            pass"
   ]
  },
  {
   "cell_type": "code",
   "execution_count": 3,
   "id": "12e9254b",
   "metadata": {},
   "outputs": [
    {
     "ename": "ArgumentError",
     "evalue": "Python argument types in\n    RWMol.AddBond(RWMol, Atom, Atom, BondType)\ndid not match C++ signature:\n    AddBond(RDKit::ReadWriteMol {lvalue}, unsigned int beginAtomIdx, unsigned int endAtomIdx, RDKit::Bond::BondType order=rdkit.Chem.rdchem.BondType.UNSPECIFIED)",
     "output_type": "error",
     "traceback": [
      "\u001b[0;31m---------------------------------------------------------------------------\u001b[0m",
      "\u001b[0;31mArgumentError\u001b[0m                             Traceback (most recent call last)",
      "\u001b[1;32m/Users/sijie/Documents/GitHub/10708_Project/TreeSample.ipynb Cell 15'\u001b[0m in \u001b[0;36m<cell line: 1>\u001b[0;34m()\u001b[0m\n\u001b[0;32m----> <a href='vscode-notebook-cell:/Users/sijie/Documents/GitHub/10708_Project/TreeSample.ipynb#ch0000019?line=0'>1</a>\u001b[0m get_substruc(mol, atoms)\n",
      "File \u001b[0;32m~/Documents/GitHub/10708_Project/ChemGraph.py:34\u001b[0m, in \u001b[0;36mget_substruc\u001b[0;34m(mol, atoms)\u001b[0m\n\u001b[1;32m     <a href='file:///Users/sijie/Documents/GitHub/10708_Project/ChemGraph.py?line=31'>32</a>\u001b[0m     a2 \u001b[39m=\u001b[39m bond\u001b[39m.\u001b[39mGetEndAtomIdx()\n\u001b[1;32m     <a href='file:///Users/sijie/Documents/GitHub/10708_Project/ChemGraph.py?line=32'>33</a>\u001b[0m     \u001b[39mif\u001b[39;00m (a1 \u001b[39min\u001b[39;00m atoms) \u001b[39mand\u001b[39;00m (a2 \u001b[39min\u001b[39;00m atoms):\n\u001b[0;32m---> <a href='file:///Users/sijie/Documents/GitHub/10708_Project/ChemGraph.py?line=33'>34</a>\u001b[0m         new_mol\u001b[39m.\u001b[39;49mAddBond(new_atom_map[a1], new_atom_map[a2], bond\u001b[39m.\u001b[39;49mGetBondType())\n\u001b[1;32m     <a href='file:///Users/sijie/Documents/GitHub/10708_Project/ChemGraph.py?line=34'>35</a>\u001b[0m \u001b[39mtry\u001b[39;00m:\n\u001b[1;32m     <a href='file:///Users/sijie/Documents/GitHub/10708_Project/ChemGraph.py?line=35'>36</a>\u001b[0m     new_smi \u001b[39m=\u001b[39m Chem\u001b[39m.\u001b[39mMolToSmiles(new_mol, kekuleSmiles\u001b[39m=\u001b[39m\u001b[39mTrue\u001b[39;00m)\n",
      "\u001b[0;31mArgumentError\u001b[0m: Python argument types in\n    RWMol.AddBond(RWMol, Atom, Atom, BondType)\ndid not match C++ signature:\n    AddBond(RDKit::ReadWriteMol {lvalue}, unsigned int beginAtomIdx, unsigned int endAtomIdx, RDKit::Bond::BondType order=rdkit.Chem.rdchem.BondType.UNSPECIFIED)"
     ]
    }
   ],
   "source": [
    "get_substruc(mol, atoms)"
   ]
  },
  {
   "cell_type": "code",
   "execution_count": null,
   "id": "a8dabcd1",
   "metadata": {},
   "outputs": [],
   "source": [
    "class Node(object):\n",
    "    \"\"\"\n",
    "    Node object in the substructure graph.\n",
    "    \"\"\"\n",
    "    def __init__(self, smiles, idx, nbrs=[], FingerprintFunc=None, includeHs=True):\n",
    "        self.smi = smiles\n",
    "        self.mol = Chem.MolFromSmiles(smiles, sanitize=False)\n",
    "        if includeHs:\n",
    "            self.mol = Chem.AddHs(self.mol)\n",
    "        if FingerprintFunc:\n",
    "            self.fp = FingerprintFunc(self.mol)\n",
    "        \n",
    "        self.idx = idx\n",
    "        self.nbrs = nbrs\n",
    "    \n",
    "    def __str__(self):\n",
    "        return self.smi\n",
    "    \n",
    "    def update_fp(self, FingerprintFunc):\n",
    "        self.fp = FingerprintFunc(self.mol)\n",
    "    \n",
    "    def add_neighbor(self, nbr):\n",
    "        try:\n",
    "            self.nbrs.extend(nbr)\n",
    "        except:\n",
    "            self.nbrs.extend([nbr])"
   ]
  },
  {
   "cell_type": "code",
   "execution_count": null,
   "id": "200643ba",
   "metadata": {},
   "outputs": [],
   "source": [
    "import types\n",
    "import numpy as np\n",
    "import pandas as pd\n",
    "from rdkit.Chem import AllChem as Chem\n",
    "from rdkit.Chem import GetSymmSSSR as SSSR\n",
    "import networkx as nx\n",
    "\n",
    "\n",
    "PTABLE = Chem.GetPeriodicTable()\n",
    "\n",
    "\n",
    "\n",
    "\n",
    "\n",
    "class SubstructGraph(object):\n",
    "    \"\"\"\n",
    "    Substructure graph of a molecule. Hydrogen atoms are ignored when building the graph but may be considered in features.\n",
    "    \"\"\"\n",
    "    def __init__(self, xyz_file, Hs_in_fragments=True, Hs_in_linkages=False):\n",
    "        self.filepath = xyz_file\n",
    "        self.filaname = xyz_file.split(\"/\")[-1]\n",
    "        self.parse_xyz_file()  # self.n_atoms, self.smi, self.atoms, self.coord, self.gap\n",
    "        self.mol = Chem.MolFromSmiles(self.smi)\n",
    "        self.mol_Hs = Chem.AddHs(self.mol)\n",
    "\n",
    "        self.fragments = []\n",
    "        self.Hs_in_fragments = Hs_in_fragments\n",
    "        self.linkages = []\n",
    "        self.Hs_in_linkages = Hs_in_linkages\n",
    "        self.graph = self.init_graph(Hs_in_fragments, Hs_in_linkages)   # nx graph object\n",
    "    \n",
    "    def parse_xyz_file(self):\n",
    "        self.atoms, self.atomic_nums, self.coords = [], [], []\n",
    "        with open(self.filepath, \"r\") as f:\n",
    "            self.n_atoms = int(f.readline())\n",
    "            self.gap = float(f.readline().split()[-1])\n",
    "            for _ in range(self.n_atoms):\n",
    "                line = f.readline().split()\n",
    "                self.atoms.append(line[0])\n",
    "                self.atomic_nums.append(PTABLE.GetAtomicNumber(line[0]))\n",
    "                self.coords.append([float(x.replace('.*^', 'e').replace('*^', 'e')) for x in line[1:]])\n",
    "            f.readline()    # frequencies\n",
    "            self.smi = f.readline().split()[0]\n",
    "\n",
    "    def init_graph(self, Hs_in_fragments=True, Hs_in_linkages=False):\n",
    "        \"\"\"\n",
    "        Decompose the atomic graph of a molecule into a substructure graph. Hydrogen atoms are ignored.\n",
    "        -------------------------------------------------------------------------------------------\n",
    "        Returns:\n",
    "            nx.Graph() object\n",
    "        \"\"\"\n",
    "        graph = nx.Graph()  # initiate graph\n",
    "        graph.graph[\"FilePath\"] = self.filepath\n",
    "        graph.graph['Smiles'] = self.smi\n",
    "        graph.graph['Gap'] = self.gap\n",
    "\n",
    "        if self.n_atoms < 3:\n",
    "            _nodes = [list(range(self.n_atoms))]\n",
    "        else:\n",
    "            _nodes = [list(x) for x in SSSR(self.mol)]    # Get smallest set of smallest rings (SSSR)\n",
    "                                                # Note that the definition is not unique\n",
    "            for bond in self.mol.GetBonds():\n",
    "                if not bond.IsInRing():     # include the rest of the bonds that are not in a ring\n",
    "                    _nodes.append([bond.GetBeginAtomIdx(), bond.GetEndAtomIdx()])\n",
    "        \n",
    "        graph.add_nodes_from([(i, {'AtomIdxs': atoms}) for i, atoms in enumerate(_nodes)])\n",
    "        \n",
    "        for i in graph.nodes:\n",
    "            try:  \n",
    "                _smi = Chem.MolFragmentToSmiles(self.mol, graph.nodes[i]['AtomIdxs'], kekuleSmiles=True)\n",
    "            except:\n",
    "                _smi = Chem.MolFragmentToSmiles(self.mol, graph.nodes[i]['AtomIdxs'], kekuleSmiles=False)\n",
    "                # print(f\"Node failed\\t{_smi}\\t{self.filaname}\")\n",
    "            _mol = Chem.MolFromSmiles(_smi, sanitize=True)\n",
    "            if Hs_in_fragments:\n",
    "                try:\n",
    "                    _mol = Chem.AddHs(_mol)\n",
    "                except:\n",
    "                    print(_smi)\n",
    "            \n",
    "            self.fragments.append(_smi)\n",
    "            graph.nodes[i]['Smiles'] = _smi\n",
    "            graph.nodes[i]['Molecule'] = _mol\n",
    "            graph.nodes[i]['Atoms'] = [self.atomic_nums[x] for x in graph.nodes[i]['AtomIdxs']]\n",
    "            graph.nodes[i]['Coordinates'] = [self.coords[x] for x in graph.nodes[i]['AtomIdxs']]\n",
    "        \n",
    "        self.n_fragments = len(self.fragments)\n",
    "        _edges = {}\n",
    "        for i in range(self.n_fragments)[:-1]:\n",
    "            a = list(graph.nodes)[i]\n",
    "            for j in range(self.n_fragments)[i+1:]:\n",
    "                b = list(graph.nodes)[j]\n",
    "                shared_atoms = list(set(graph.nodes[a]['AtomIdxs']) & set(graph.nodes[b]['AtomIdxs']))\n",
    "                if shared_atoms:\n",
    "                    graph.add_edge(a, b, LinkAtomIdxs=shared_atoms)\n",
    "                    try:\n",
    "                        _smi = Chem.MolFragmentToSmiles(self.mol, shared_atoms, kekuleSmiles=True)\n",
    "                    except:\n",
    "                        _smi = Chem.MolFragmentToSmiles(self.mol, shared_atoms, kekuleSmiles=False)\n",
    "                        print(f\"Edge failed\\t{_smi}\\t{self.filaname}\")\n",
    "                    _mol = Chem.MolFromSmiles(_smi, sanitize=True)\n",
    "                    if Hs_in_linkages:\n",
    "                        try:\n",
    "                            _mol = Chem.AddHs(_mol)\n",
    "                        except:\n",
    "                            pass\n",
    "                            # print(_smi)\n",
    "\n",
    "                    self.linkages.append(_smi)\n",
    "                    graph.edges[a, b]['Smiles'] = _smi\n",
    "                    graph.edges[a, b]['Molecule'] = _mol\n",
    "        return graph\n",
    "    \n",
    "    def update_graph(self, NodeConverter=None, EdgeConverter=None):\n",
    "        \"\"\"Extract features from nodes and/or edges or update previous features.\n",
    "\n",
    "        Args:\n",
    "            NodeConverter (Function, optional): Node feature extraction function. Defaults to None.\n",
    "            EdgeConverter (Function, optional): Edge feature extraction function. Defaults to None.\n",
    "        \"\"\"\n",
    "        if isinstance(NodeConverter, types.FunctionType):\n",
    "            for i in list(self.graph.nodes):\n",
    "                self.graph[i]['Features'] = NodeConverter(self.graph[i]['Molecule'])\n",
    "        elif NodeConverter is not None:\n",
    "            raise Exception(\"NodeConverter is not a valid converting function.\")\n",
    "\n",
    "        if isinstance(EdgeConverter, types.FunctionType):\n",
    "            for (a, b, mol) in self.graph.edges.data('Molecule'):\n",
    "                self.graph.edges[a, b]['Features'] = EdgeConverter(mol)\n",
    "        elif EdgeConverter is not None:\n",
    "            raise Exception(\"EdgeConverter is not a valid converting function.\")"
   ]
  },
  {
   "cell_type": "code",
   "execution_count": null,
   "id": "798e37a5",
   "metadata": {},
   "outputs": [],
   "source": [
    "import os\n",
    "print(os.getcwd())\n",
    "\n",
    "file_path = \"./baselines/data/qm9/xyz/dsgdb9nsd_000608.xyz\"\n",
    "filenames = [filename for filename in os.listdir(\"./baselines/data/qm9/xyz/\") if filename.endswith(\".xyz\")]\n",
    "for file_path in filenames:\n",
    "    G = SubstructGraph(\"./baselines/data/qm9/xyz/\"+file_path)"
   ]
  },
  {
   "cell_type": "code",
   "execution_count": null,
   "id": "c3d9764e",
   "metadata": {},
   "outputs": [],
   "source": [
    "Chem.MolFragmentToCXSmiles"
   ]
  },
  {
   "cell_type": "code",
   "execution_count": null,
   "id": "c255092e",
   "metadata": {},
   "outputs": [],
   "source": [
    "class GraphLegion(object):\n",
    "    \"\"\"_summary_\n",
    "\n",
    "    Args:\n",
    "        object (_type_): _description_\n",
    "    \"\"\""
   ]
  },
  {
   "cell_type": "code",
   "execution_count": null,
   "id": "cb2eff94",
   "metadata": {},
   "outputs": [],
   "source": [
    "def tree_decomp(smiles):\n",
    "    \"\"\"\n",
    "    Decompose the atomic graph of a molecule into a substructure graph. Hydrogen atoms are ignored.\n",
    "    -------------------------------------------------------------------------------------------\n",
    "    Args:\n",
    "        smi (str): SMILES string of a molecule (str)\n",
    "    Returns:\n",
    "        decomposed substructures (list) & edges (list)\n",
    "    \"\"\"\n",
    "    smi = smiles\n",
    "    mol = Chem.MolFromSmiles(smi)  # molecule with implicit Hs\n",
    "    \n",
    "    n_atoms = mol.GetNumAtoms()\n",
    "    if n_atoms <= 2:\n",
    "        return [list(range(n_atoms))], []  # one node, no edge\n",
    "    \n",
    "    nodes = [list(x) for x in SSSR(mol)]  # Get smallest set of smallest rings (SSSR)\n",
    "                                                                # Note that the definition is not unique\n",
    "    for bond in mol.GetBonds():\n",
    "        if not bond.IsInRing():  # get the bonds that are not in a ring\n",
    "            nodes.apend([bond.GetBeginAtomIdx(), bond.GetEndAtomIdx()])\n",
    "    \n",
    "    edges = []\n",
    "    "
   ]
  }
 ],
 "metadata": {
  "kernelspec": {
   "display_name": "10708",
   "language": "python",
   "name": "10708"
  },
  "language_info": {
   "codemirror_mode": {
    "name": "ipython",
    "version": 3
   },
   "file_extension": ".py",
   "mimetype": "text/x-python",
   "name": "python",
   "nbconvert_exporter": "python",
   "pygments_lexer": "ipython3",
   "version": "3.9.0"
  }
 },
 "nbformat": 4,
 "nbformat_minor": 5
}
